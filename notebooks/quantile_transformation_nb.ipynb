{
 "cells": [
  {
   "cell_type": "code",
   "execution_count": 1,
   "metadata": {},
   "outputs": [
    {
     "data": {
      "text/plain": [
       "\"/Users/farhadyar/Documents/Project_PTVAE/progs/github_repo/LatentSubgroups\""
      ]
     },
     "metadata": {},
     "output_type": "display_data"
    }
   ],
   "source": [
    "cd(\"../.\") \n",
    "pwd()"
   ]
  },
  {
   "cell_type": "code",
   "execution_count": 2,
   "metadata": {},
   "outputs": [
    {
     "name": "stderr",
     "output_type": "stream",
     "text": [
      "\u001b[32m\u001b[1m  Activating\u001b[22m\u001b[39m environment at `~/Documents/Project_PTVAE/progs/github_repo/LatentSubgroups/Project.toml`\n",
      "WARNING: using DecisionTree.predict in module Main conflicts with an existing identifier.\n"
     ]
    }
   ],
   "source": [
    "\n",
    "using Pkg\n",
    "if isfile(\"Project.toml\") && isfile(\"Manifest.toml\")\n",
    "    Pkg.activate(\".\")\n",
    "end\n",
    "\n",
    "# Pkg.instantiate()\n",
    "\n",
    "#FIXME make the including and using clean. you are including usings in irrelevant files. also including with revise you can check it including only one file and see it is running independently and then continue\n",
    "using IJulia\n",
    "using Revise\n",
    "\n",
    "includet(\"../src/quantile_transformation.jl\")\n",
    "includet(\"../AIQN/AIQN.jl\")\n",
    "includet(\"../src/structs.jl\")\n",
    "includet(\"../src/report.jl\")\n",
    "includet(\"../src/transformations.jl\")\n",
    "includet(\"../src/VAE.jl\")\n",
    "includet(\"../src/load_data.jl\")\n",
    "includet(\"../src/evaluation/evaluation.jl\")\n",
    "includet(\"../src/classification.jl\")\n",
    "includet(\"../src/GLM.jl\")\n",
    "\n"
   ]
  },
  {
   "cell_type": "code",
   "execution_count": 3,
   "metadata": {},
   "outputs": [
    {
     "data": {
      "text/plain": [
       "false"
      ]
     },
     "metadata": {},
     "output_type": "display_data"
    }
   ],
   "source": [
    "x, dataTypeArray,args = load_dataset()\n",
    "\n",
    "\n",
    "if args.data_string == \"sim\"\n",
    "    \n",
    "    args.β = 0.5\n",
    "    args.η = 1e-3\n",
    "    args.epochs = 500\n",
    "    args.multimodal_encoder = true\n",
    "    args.batch_size = 32\n",
    "    args.latent_dim = 2\n",
    "    args.hidden_dim = 28\n",
    "    args.scaling_method = \"scaling\"\n",
    "\n",
    "else contains(args.data_string, \"ist\")\n",
    "    args.β = 0.5\n",
    "    args.η = 1e-3\n",
    "    args.epochs = 1000\n",
    "    args.multimodal_encoder = true\n",
    "    args.batch_size = 128\n",
    "    args.latent_dim = 2\n",
    "    args.hidden_dim = 22\n",
    "    args.scaling_method = \"scaling\"\n",
    "end\n",
    "\n",
    "\n",
    "args.pre_transformation = true\n",
    "args.AIQN = false"
   ]
  },
  {
   "cell_type": "code",
   "execution_count": 14,
   "metadata": {},
   "outputs": [
    {
     "data": {
      "text/plain": [
       "([0.5244268387145913 0.6060966619661708 … 0.20683261731326594 0.3649779961030929; 1.0 0.0 … 1.0 1.0; … ; 0.554122634825676 0.6432401098327987 … 0.6755245232804588 0.4861937898827712; 0.0 0.0 … 0.0 1.0], preprocess_params\n",
       "  input_dim: Int64 21\n",
       "  pre_transformation_type: String \"quantile\"\n",
       "  qt_array: Array{QuantileTransformer}((21,))\n",
       "  n_quantiles: Int64 1000\n",
       "  λ2: Array{Float32}((21,)) Float32[0.0, 0.0, 0.0, 0.0, 0.0, 0.0, 0.0, 0.0, 0.0, 0.0  …  0.0, 0.0, 0.0, 0.0, 0.0, 0.0, 0.0, 0.0, 0.0, 0.0]\n",
       "  λ1: Array{Float32}((21,)) Float32[1.0, 1.0, 1.0, 1.0, 1.0, 1.0, 1.0, 1.0, 1.0, 1.0  …  1.0, 1.0, 1.0, 1.0, 1.0, 1.0, 1.0, 1.0, 1.0, 1.0]\n",
       "  box_cox_epochs: Int64 5000\n",
       "  box_cox_η: Float32 0.001f0\n",
       "  μ: Array{Float32}((21,)) Float32[-3.0902324, 0.0, -3.0902324, 0.0, 0.0, -3.0902324, -3.0902324, -3.0902324, 0.0, 0.0  …  -3.0902324, -3.0902324, -3.0902324, -3.0902324, 0.0, 0.0, 0.0, 0.0, -3.0902324, 0.0]\n",
       "  σ: Array{Float32}((21,)) Float32[3.0902324, 0.5, 3.0902324, 0.5, 0.5, 2.9841971, 2.658222, 2.6301613, 0.5, 0.5  …  3.0902324, 3.0902324, 3.0902324, 3.0902324, 0.5, 0.5, 0.5, 0.5, 3.0902324, 0.5]\n",
       "  shift: Array{Float32}((21,)) Float32[0.0, 0.0, 0.0, 0.0, 0.0, 0.0, 0.0, 0.0, 0.0, 0.0  …  0.0, 0.0, 0.0, 0.0, 0.0, 0.0, 0.0, 0.0, 0.0, 0.0]\n",
       "  peak1: Array{Float32}((21,)) Float32[1.0, 1.0, 1.0, 1.0, 1.0, 1.0, 1.0, 1.0, 1.0, 1.0  …  1.0, 1.0, 1.0, 1.0, 1.0, 1.0, 1.0, 1.0, 1.0, 1.0]\n",
       "  peak2: Array{Float32}((21,)) Float32[1.0, 1.0, 1.0, 1.0, 1.0, 1.0, 1.0, 1.0, 1.0, 1.0  …  1.0, 1.0, 1.0, 1.0, 1.0, 1.0, 1.0, 1.0, 1.0, 1.0]\n",
       "  peak_rng: Array{Float32}((21,)) Float32[1.0, 1.0, 1.0, 1.0, 1.0, 1.0, 1.0, 1.0, 1.0, 1.0  …  1.0, 1.0, 1.0, 1.0, 1.0, 1.0, 1.0, 1.0, 1.0, 1.0]\n",
       "  min: Array{Float32}((21,)) Float32[0.0, 0.0, 0.0, 0.0, 0.0, 0.0, 0.0, 0.0, 0.0, 0.0  …  0.0, 0.0, 0.0, 0.0, 0.0, 0.0, 0.0, 0.0, 0.0, 0.0]\n",
       "  max: Array{Float32}((21,)) Float32[0.0, 0.0, 0.0, 0.0, 0.0, 0.0, 0.0, 0.0, 0.0, 0.0  …  0.0, 0.0, 0.0, 0.0, 0.0, 0.0, 0.0, 0.0, 0.0, 0.0]\n",
       "  power: Array{Float32}((21,)) Float32[1.0, 1.0, 1.0, 1.0, 1.0, 1.0, 1.0, 1.0, 1.0, 1.0  …  1.0, 1.0, 1.0, 1.0, 1.0, 1.0, 1.0, 1.0, 1.0, 1.0]\n",
       "  power_epochs: Int64 50000\n",
       "  power_η: Float32 0.001f0\n",
       ")"
      ]
     },
     "metadata": {},
     "output_type": "display_data"
    }
   ],
   "source": [
    "Random.seed!(11)\n",
    "\n",
    "preprocess_ps = preprocess_params(input_dim = args.input_dim, pre_transformation_type = \"quantile\")\n",
    "\n",
    "\n",
    "preprocessed_data, preprocess_ps = preprocess!(args, preprocess_ps, x, dataTypeArray)"
   ]
  },
  {
   "cell_type": "code",
   "execution_count": 33,
   "metadata": {},
   "outputs": [
    {
     "name": "stdout",
     "output_type": "stream",
     "text": [
      "Epoch 100: loss = 0.6645416179068591\n",
      "Epoch 200: loss = 0.35520755235946927\n",
      "Epoch 300: loss = 0.2623694078489225\n",
      "Epoch 400: loss = 0.18023365384027712\n",
      "Epoch 500: loss = 0.24775008829855033\n"
     ]
    },
    {
     "data": {
      "text/plain": [
       "(multimodal_vae(Dense(11 => 11, tanh), Dense(10 => 10, tanh), Dense(11 => 2), Dense(10 => 2), Dense(11 => 2), Dense(10 => 2), Dense(2 => 28, tanh), Dense(28 => 10), Dense(28 => 10), Dense(28 => 11, σ), Bool[1, 0, 1, 0, 0, 1, 1, 1, 0, 0  …  1, 1, 1, 1, 0, 0, 0, 0, 1, 0], 10, 11, false, 0.5, TBLogger(\"/Users/farhadyar/Documents/Project_PTVAE/progs/github_repo/LatentSubgroups/runs/run_419/vae_10\"), min_level=Info, purge_step=500)), DataLoader{Adjoint{Float64, Matrix{Float64}}, Random._GLOBAL_RNG, Val{nothing}}([0.5244268387145913 0.6060966619661708 … 0.20683261731326594 0.3649779961030929; 1.0 0.0 … 1.0 1.0; … ; 0.554122634825676 0.6432401098327987 … 0.6755245232804588 0.4861937898827712; 0.0 0.0 … 0.0 1.0], 32, false, true, true, false, Val{nothing}(), Random._GLOBAL_RNG()), Any[15.596274705336802, 6.941837203302696, 5.215556464411021, 4.745772339033834, 4.472506566050889, 4.328236845825898, 4.129884984843024, 3.9961471149442436, 3.880479645114607, 3.7776114827824108  …  0.09430913701847093, 0.1511949038835439, 0.06688585040953221, 1.0603986225256312, 0.20939704044718455, 0.5016280384879755, 0.11883104484346624, 0.45025363425141, 0.20970561105690322, 0.24775008829855033])"
      ]
     },
     "metadata": {},
     "output_type": "display_data"
    }
   ],
   "source": [
    "if args.hyperopt_flag\n",
    "    trainVAE_hyperparams_opt!(preprocessed_data, x, dataTypeArray, preprocess_ps, args)\n",
    "else\n",
    "    model, training_data, loss_array_vae = trainVAE!(preprocessed_data, x, dataTypeArray, preprocess_ps, args)\n",
    "end"
   ]
  }
 ],
 "metadata": {
  "kernelspec": {
   "display_name": "Julia 1.6.7",
   "language": "julia",
   "name": "julia-1.6"
  },
  "language_info": {
   "file_extension": ".jl",
   "mimetype": "application/julia",
   "name": "julia",
   "version": "1.6.7"
  }
 },
 "nbformat": 4,
 "nbformat_minor": 2
}
