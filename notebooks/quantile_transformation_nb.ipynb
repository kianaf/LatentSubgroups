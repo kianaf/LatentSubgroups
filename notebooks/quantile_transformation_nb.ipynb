{
 "cells": [
  {
   "cell_type": "code",
   "execution_count": 1,
   "metadata": {},
   "outputs": [
    {
     "data": {
      "text/plain": [
       "\"/Users/farhadyar/Documents/Project_PTVAE/progs/github_repo/LatentSubgroups\""
      ]
     },
     "metadata": {},
     "output_type": "display_data"
    }
   ],
   "source": [
    "cd(\"../.\") \n",
    "pwd()"
   ]
  },
  {
   "cell_type": "code",
   "execution_count": 2,
   "metadata": {},
   "outputs": [
    {
     "name": "stderr",
     "output_type": "stream",
     "text": [
      "\u001b[32m\u001b[1m  Activating\u001b[22m\u001b[39m environment at `~/Documents/Project_PTVAE/progs/github_repo/LatentSubgroups/Project.toml`\n",
      "WARNING: using DecisionTree.predict in module Main conflicts with an existing identifier.\n"
     ]
    }
   ],
   "source": [
    "\n",
    "using Pkg\n",
    "if isfile(\"Project.toml\") && isfile(\"Manifest.toml\")\n",
    "    Pkg.activate(\".\")\n",
    "end\n",
    "\n",
    "# Pkg.instantiate()\n",
    "\n",
    "#FIXME make the including and using clean. you are including usings in irrelevant files. also including with revise you can check it including only one file and see it is running independently and then continue\n",
    "using IJulia\n",
    "using Revise\n",
    "\n",
    "includet(\"../src/quantile_transformation.jl\")\n",
    "includet(\"../AIQN/AIQN.jl\")\n",
    "includet(\"../src/structs.jl\")\n",
    "includet(\"../src/report.jl\")\n",
    "includet(\"../src/transformations.jl\")\n",
    "includet(\"../src/VAE.jl\")\n",
    "includet(\"../src/load_data.jl\")\n",
    "includet(\"../src/evaluation/evaluation.jl\")\n",
    "includet(\"../src/classification.jl\")\n",
    "includet(\"../src/GLM.jl\")\n",
    "\n"
   ]
  },
  {
   "cell_type": "code",
   "execution_count": 3,
   "metadata": {},
   "outputs": [
    {
     "data": {
      "text/plain": [
       "false"
      ]
     },
     "metadata": {},
     "output_type": "display_data"
    }
   ],
   "source": [
    "x, dataTypeArray,args = load_dataset()\n",
    "\n",
    "\n",
    "if args.data_string == \"sim\"\n",
    "    \n",
    "    args.β = 0.5\n",
    "    args.η = 1e-3\n",
    "    args.epochs = 500\n",
    "    args.multimodal_encoder = true\n",
    "    args.batch_size = 32\n",
    "    args.latent_dim = 2\n",
    "    args.hidden_dim = 28\n",
    "    args.scaling_method = \"scaling\"\n",
    "\n",
    "else contains(args.data_string, \"ist\")\n",
    "    args.β = 0.5\n",
    "    args.η = 1e-3\n",
    "    args.epochs = 1000\n",
    "    args.multimodal_encoder = true\n",
    "    args.batch_size = 128\n",
    "    args.latent_dim = 2\n",
    "    args.hidden_dim = 22\n",
    "    args.scaling_method = \"scaling\"\n",
    "end\n",
    "\n",
    "\n",
    "args.pre_transformation = true\n",
    "args.AIQN = false"
   ]
  },
  {
   "cell_type": "code",
   "execution_count": 4,
   "metadata": {},
   "outputs": [
    {
     "data": {
      "text/plain": [
       "([1.0 1.0 … 1.0 1.0; 1.0 1.0 … 1.0 1.0; … ; 1.0 0.0 … 0.0 0.0; 0.0 0.0 … 1.0 0.0], preprocess_params\n",
       "  input_dim: Int64 15\n",
       "  pre_transformation_type: String \"quantile\"\n",
       "  qt_array: Array{QuantileTransformer}((15,))\n",
       "  n_quantiles: Int64 10\n",
       "  λ2: Array{Float32}((15,)) Float32[0.0, 0.0, 0.0, 0.0, 0.0, 0.0, 0.0, 0.0, 0.0, 0.0, 0.0, 0.0, 0.0, 0.0, 0.0]\n",
       "  λ1: Array{Float32}((15,)) Float32[1.0, 1.0, 1.0, 1.0, 1.0, 1.0, 1.0, 1.0, 1.0, 1.0, 1.0, 1.0, 1.0, 1.0, 1.0]\n",
       "  box_cox_epochs: Int64 5000\n",
       "  box_cox_η: Float32 0.001f0\n",
       "  μ: Array{Float32}((15,)) Float32[0.0, 0.0, -1.2815516, 0.0, -1.2815516, 0.0, 0.0, 0.0, 0.0, 0.0, 0.0, -1.2815516, 0.0, 0.0, 0.0]\n",
       "  σ: Array{Float32}((15,)) Float32[0.5, 0.5, 1.2815516, 0.5, 1.2815516, 0.5, 0.5, 0.5, 0.5, 0.5, 0.5, 1.2815516, 0.5, 0.5, 0.5]\n",
       "  shift: Array{Float32}((15,)) Float32[0.0, 0.0, 0.0, 0.0, 0.0, 0.0, 0.0, 0.0, 0.0, 0.0, 0.0, 0.0, 0.0, 0.0, 0.0]\n",
       "  peak1: Array{Float32}((15,)) Float32[1.0, 1.0, 1.0, 1.0, 1.0, 1.0, 1.0, 1.0, 1.0, 1.0, 1.0, 1.0, 1.0, 1.0, 1.0]\n",
       "  peak2: Array{Float32}((15,)) Float32[1.0, 1.0, 1.0, 1.0, 1.0, 1.0, 1.0, 1.0, 1.0, 1.0, 1.0, 1.0, 1.0, 1.0, 1.0]\n",
       "  peak_rng: Array{Float32}((15,)) Float32[1.0, 1.0, 1.0, 1.0, 1.0, 1.0, 1.0, 1.0, 1.0, 1.0, 1.0, 1.0, 1.0, 1.0, 1.0]\n",
       "  min: Array{Float32}((15,)) Float32[0.0, 0.0, 0.0, 0.0, 0.0, 0.0, 0.0, 0.0, 0.0, 0.0, 0.0, 0.0, 0.0, 0.0, 0.0]\n",
       "  max: Array{Float32}((15,)) Float32[0.0, 0.0, 0.0, 0.0, 0.0, 0.0, 0.0, 0.0, 0.0, 0.0, 0.0, 0.0, 0.0, 0.0, 0.0]\n",
       "  power: Array{Float32}((15,)) Float32[1.0, 1.0, 1.0, 1.0, 1.0, 1.0, 1.0, 1.0, 1.0, 1.0, 1.0, 1.0, 1.0, 1.0, 1.0]\n",
       "  power_epochs: Int64 50000\n",
       "  power_η: Float32 0.001f0\n",
       ")"
      ]
     },
     "metadata": {},
     "output_type": "display_data"
    }
   ],
   "source": [
    "Random.seed!(11)\n",
    "\n",
    "preprocess_ps = preprocess_params(input_dim = args.input_dim, pre_transformation_type = \"quantile\")\n",
    "\n",
    "\n",
    "preprocessed_data, preprocess_ps = preprocess!(args, preprocess_ps, x, dataTypeArray)"
   ]
  },
  {
   "cell_type": "code",
   "execution_count": 5,
   "metadata": {},
   "outputs": [
    {
     "name": "stdout",
     "output_type": "stream",
     "text": [
      "Epoch 100: loss = 6.379681676198081\n",
      "Epoch 200: loss = 5.309299127896957\n",
      "Epoch 300: loss = 5.00340412103955\n",
      "Epoch 400: loss = 4.469815889275615\n",
      "Epoch 500: loss = 4.355859955603279\n",
      "Epoch 600: loss = 4.240319869230198\n",
      "Epoch 700: loss = 5.028128427839897\n",
      "Epoch 800: loss = 4.914173533068944\n",
      "Epoch 900: loss = 4.2852587209193915\n",
      "Epoch 1000: loss = 4.157926774973101\n"
     ]
    },
    {
     "data": {
      "text/plain": [
       "(multimodal_vae(Dense(12 => 12, tanh), Dense(3 => 3, tanh), Dense(12 => 2), Dense(3 => 2), Dense(12 => 2), Dense(3 => 2), Dense(2 => 22, tanh), Dense(22 => 3), Dense(22 => 3), Dense(22 => 12, σ), Bool[0, 0, 1, 0, 1, 0, 0, 0, 0, 0, 0, 1, 0, 0, 0], 3, 12, false, 0.5, TBLogger(\"/Users/farhadyar/Documents/Project_PTVAE/progs/github_repo/LatentSubgroups/runs/run_444/vae\"), min_level=Info, purge_step=1000)), DataLoader{Adjoint{Float64, Matrix{Float64}}, Random._GLOBAL_RNG, Val{nothing}}([1.0 1.0 … 1.0 1.0; 1.0 1.0 … 1.0 1.0; … ; 1.0 0.0 … 0.0 0.0; 0.0 0.0 … 1.0 0.0], 128, false, true, true, false, Val{nothing}(), Random._GLOBAL_RNG()), Any[11.823944468256547, 11.27634185701072, 10.551706477911116, 9.703570462819922, 8.950883167062539, 8.51247448756166, 8.30670572041923, 8.158632288960447, 8.059718989681391, 7.968746337514927  …  4.14400806405466, 4.69295596957931, 4.340419203701497, 4.143922249993226, 4.386195008574652, 4.198857346153831, 4.404591375212374, 4.171581937158126, 4.570460584306683, 4.157926774973101])"
      ]
     },
     "metadata": {},
     "output_type": "display_data"
    }
   ],
   "source": [
    "if args.hyperopt_flag\n",
    "    trainVAE_hyperparams_opt!(preprocessed_data, x, dataTypeArray, preprocess_ps, args)\n",
    "else\n",
    "    model, training_data, loss_array_vae = trainVAE!(preprocessed_data, x, dataTypeArray, preprocess_ps, args)\n",
    "end"
   ]
  }
 ],
 "metadata": {
  "kernelspec": {
   "display_name": "Julia 1.6.7",
   "language": "julia",
   "name": "julia-1.6"
  },
  "language_info": {
   "file_extension": ".jl",
   "mimetype": "application/julia",
   "name": "julia",
   "version": "1.6.7"
  }
 },
 "nbformat": 4,
 "nbformat_minor": 2
}
