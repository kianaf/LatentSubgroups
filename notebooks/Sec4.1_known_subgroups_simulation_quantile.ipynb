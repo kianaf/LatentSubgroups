{
 "cells": [
  {
   "cell_type": "code",
   "execution_count": 1,
   "metadata": {},
   "outputs": [],
   "source": [
    "# Before running this notebook, you need to set the following variables in structs.jl for mutable struct Args: \n",
    "#   data_string: \"data_scenario1\"\n",
    "#   pre_transformation: true"
   ]
  },
  {
   "cell_type": "code",
   "execution_count": 2,
   "metadata": {},
   "outputs": [
    {
     "data": {
      "text/plain": [
       "\"/Users/farhadyar/Documents/Project_PTVAE/progs/github_repo/LatentSubgroups\""
      ]
     },
     "metadata": {},
     "output_type": "display_data"
    }
   ],
   "source": [
    "cd(\"../.\") \n",
    "pwd()"
   ]
  },
  {
   "cell_type": "code",
   "execution_count": 3,
   "metadata": {},
   "outputs": [
    {
     "name": "stderr",
     "output_type": "stream",
     "text": [
      "\u001b[32m\u001b[1m  Activating\u001b[22m\u001b[39m environment at `~/Documents/Project_PTVAE/progs/github_repo/LatentSubgroups/Project.toml`\n"
     ]
    }
   ],
   "source": [
    "using Pkg\n",
    "if isfile(\"Project.toml\") && isfile(\"Manifest.toml\")\n",
    "    Pkg.activate(\".\")\n",
    "end\n",
    "\n",
    "# Pkg.instantiate()\n",
    "using IJulia\n",
    "\n",
    "using Revise\n",
    "\n"
   ]
  },
  {
   "cell_type": "code",
   "execution_count": 4,
   "metadata": {},
   "outputs": [
    {
     "name": "stderr",
     "output_type": "stream",
     "text": [
      "WARNING: using DecisionTree.predict in module Main conflicts with an existing identifier.\n"
     ]
    }
   ],
   "source": [
    "includet(\"../AIQN/AIQN.jl\")\n",
    "includet(\"../src/quantile_transformation.jl\")\n",
    "includet(\"../src/structs.jl\")\n",
    "includet(\"../src/report.jl\")\n",
    "includet(\"../src/transformations.jl\")\n",
    "includet(\"../src/VAE.jl\")\n",
    "includet(\"../src/load_data.jl\")\n",
    "includet(\"../src/evaluation/evaluation.jl\")\n",
    "includet(\"../src/classification.jl\")\n",
    "includet(\"../src/GLM.jl\")\n",
    "\n",
    "# Set default DPI to 300\n",
    "default(dpi=300)\n"
   ]
  },
  {
   "cell_type": "code",
   "execution_count": 5,
   "metadata": {},
   "outputs": [
    {
     "data": {
      "text/plain": [
       "\"standardization\""
      ]
     },
     "metadata": {},
     "output_type": "display_data"
    }
   ],
   "source": [
    "\n",
    "x, dataTypeArray,args = load_dataset()\n",
    "\n",
    "if args.data_string == \"data_scenario1\"\n",
    "    args.pre_transformation = true\n",
    "    args.scaling_method= \"standardization\"\n",
    "\n",
    "else\n",
    "    println(\"For this notebook you should set the args.data_string = data_scenario1\")\n",
    "\n",
    "    println(\"change the struct and restart the notebook again\")\n",
    "end"
   ]
  },
  {
   "cell_type": "code",
   "execution_count": 6,
   "metadata": {},
   "outputs": [],
   "source": [
    "Random.seed!(11)\n",
    "preprocess_ps = preprocess_params(input_dim = args.input_dim, pre_transformation_type = \"quantile\")\n",
    "preprocessed_data, preprocess_ps = preprocess!(args, preprocess_ps, x, dataTypeArray)"
   ]
  },
  {
   "cell_type": "code",
   "execution_count": null,
   "metadata": {},
   "outputs": [],
   "source": [
    "\n",
    "args.η = 0.0001f0\n",
    "args.λ = 0.01f0\n",
    "args.β = 0.1\n",
    "args.batch_size = 128\n",
    "args.epochs = 4000\n",
    "args.seed = 42\n",
    "args.input_dim = 18\n",
    "args.latent_dim = 2\n",
    "args.hidden_dim = 21\n",
    "args.synthetic_data = false     \n",
    "args.multimodal_encoder = true\n",
    "args.IPW_sampling = false\n",
    "args.grid_point_size = 0.1\n",
    "\n",
    "\n",
    "\n",
    "if args.hyperopt_flag\n",
    "    trainVAE_hyperparams_opt!(preprocessed_data, x, dataTypeArray, preprocess_ps, args)\n",
    "else\n",
    "    model, training_data, loss_array_vae = trainVAE!(preprocessed_data, x, dataTypeArray, preprocess_ps, args)\n",
    "end\n"
   ]
  },
  {
   "cell_type": "code",
   "execution_count": null,
   "metadata": {},
   "outputs": [],
   "source": [
    "z = get_latent(preprocessed_data, model, args, preprocess_ps)\n",
    "E = load_exposure(args.data_string)\n",
    "y = load_outcome(args.data_string)\n",
    "E_O = Int.(E) .& Int.(y)\n",
    "\n",
    "display(scatter_latent(z, \"E\", E,  \"A) Latent representation\"))\n",
    "Plots.savefig(\"known_subgroups_only_latent_E_n_quantile$(preprocess_ps.n_quantiles).png\")\n",
    "Plots.savefig(\"known_subgroups_only_latent_E_n_quantile$(preprocess_ps.n_quantiles).pdf\")\n",
    "\n",
    "scatter_latent(z, \"y\", y, \"A) Latent representation\")"
   ]
  },
  {
   "cell_type": "code",
   "execution_count": null,
   "metadata": {},
   "outputs": [],
   "source": [
    "\n",
    "\n",
    "# data_glm = Matrix(CSV.read(\"./data/data_scenario1.csv\" , DataFrame)[:, 2:end-2])\n",
    "# x6_inclusion = true\n",
    "\n",
    "\n",
    "data_glm = x\n",
    "x6_inclusion = false\n",
    "\n",
    "\n",
    "type_vector = [length(unique(data_glm[:, col])) > 2 for col in 1:size(data_glm, 2)]\n",
    "x_μ = vec(mean(data_glm, dims=1)) .* type_vector\n",
    "x_σ = (vec(std(data_glm, dims=1)) .* type_vector) .+ (0.5 * .!type_vector)\n",
    "data_glm = standardize(x_μ, x_σ, data_glm)'\n",
    "\n",
    "\n",
    "\n",
    "training_glm = hcat(data_glm, E, y)\n",
    "\n",
    "\n",
    "includet(\"../src/GLM.jl\")\n",
    "\n",
    "\n",
    "exposure_model, selected_features_exposure = fit_logistic_regression_exposure(training_glm, x6_inclusion)\n",
    "\n",
    "selected_features_outcome = fit_logistic_regression_outcome(training_glm, x6_inclusion)\n",
    "\n",
    "e_o_model_and, selected_features_e_o_and= fit_logistic_regression_selected_features_both(training_glm,selected_features_exposure, selected_features_outcome, x6_inclusion)\n",
    "\n",
    "\n",
    "e_o_model_or, selected_features_e_o_or = fit_logistic_regression_selected_features_either(training_glm,selected_features_exposure, selected_features_outcome, x6_inclusion)"
   ]
  },
  {
   "cell_type": "code",
   "execution_count": null,
   "metadata": {},
   "outputs": [],
   "source": [
    "@show selected_features_exposure\n",
    "@show selected_features_outcome\n",
    "@show selected_features_e_o_and\n",
    "@show selected_features_e_o_or\n",
    "\n",
    "println(\"\")"
   ]
  },
  {
   "cell_type": "code",
   "execution_count": null,
   "metadata": {},
   "outputs": [],
   "source": [
    "date_string = Dates.format(now(), \"yyyy-mm-dd HH:MM:SS\")"
   ]
  },
  {
   "cell_type": "code",
   "execution_count": null,
   "metadata": {},
   "outputs": [],
   "source": [
    "includet(\"../visualization/visualization.jl\")\n",
    "Random.seed!(42)\n",
    "\n",
    "probabilities_e = predict_probability(exposure_model, training_glm, x6_inclusion)\n",
    "\n",
    "probabilities_e_o_and = predict_probability(e_o_model_and, training_glm,  x6_inclusion)\n",
    "\n",
    "probabilities_e_o_or = predict_probability(e_o_model_or, training_glm,  x6_inclusion)\n",
    "\n",
    "\n",
    "size(700,500)\n",
    "\n",
    "# Get the rectangle coordinates\n",
    "rect_coords = rectangle_from_coords(0.1, 0.7, 1, 2)\n",
    "\n",
    "# Separate the coordinates into x and y arrays\n",
    "x_rect = rect_coords[:, 1]\n",
    "y_rect = rect_coords[:, 2]\n",
    "\n",
    "plt = latent_propensity_ovrlay_no(z, probabilities_e, 2500, E, y, \"A) Features selected by E\", true, args.grid_point_size)\n",
    "\n",
    "# Plot the rectangle\n",
    "# plt = Plots.plot!(x_rect, y_rect, seriestype=:shape, fillalpha=0, color=:red, linecolor = :red, lw = 5, label=false)\n",
    "\n",
    "display(plt)\n",
    "\n",
    "\n",
    "plt2 = latent_propensity_ovrlay(z, probabilities_e_o_and, 2500, E, y, \"B) Features selected by E-O\", true, args.grid_point_size)\n",
    "# plt2 = Plots.plot!(x_rect, y_rect, seriestype=:shape, fillalpha=0, color=:red, linecolor = :red, lw = 5, label=false)\n",
    "\n",
    "display(plt2)\n"
   ]
  },
  {
   "cell_type": "code",
   "execution_count": null,
   "metadata": {},
   "outputs": [],
   "source": [
    "figure4 = Plots.plot(plt, plt2, layout = (1, 2), size = (1400, 500))"
   ]
  },
  {
   "cell_type": "code",
   "execution_count": null,
   "metadata": {},
   "outputs": [],
   "source": [
    "Plots.savefig(figure4, \"./figures/Figure4_exposure_outcome_quantile_n_quantile$(preprocess_ps.n_quantiles).png\")\n",
    "Plots.savefig(figure4, \"./figures/Figure4_exposure_outcome_quantile_n_quantile$(preprocess_ps.n_quantiles).pdf\")"
   ]
  },
  {
   "cell_type": "code",
   "execution_count": null,
   "metadata": {},
   "outputs": [],
   "source": [
    "# Set the input and output filenames\n",
    "input_pdf =  \"./figures/Figure4_exposure_outcome_quantile_n_quantile$(preprocess_ps.n_quantiles).pdf\"\n",
    "output_eps =  \"./figures/Figure4_exposure_outcome_quantile_n_quantile$(preprocess_ps.n_quantiles).eps\"\n",
    "\n",
    "# Construct the Ghostscript command\n",
    "command = `gs -dNOPAUSE -dBATCH -dEPSCrop -r300 -sDEVICE=eps2write -sOutputFile=$output_eps $input_pdf`\n",
    "\n",
    "# Run the command\n",
    "run(command)"
   ]
  }
 ],
 "metadata": {
  "kernelspec": {
   "display_name": "Julia 1.6.7",
   "language": "julia",
   "name": "julia-1.6"
  },
  "language_info": {
   "file_extension": ".jl",
   "mimetype": "application/julia",
   "name": "julia",
   "version": "1.6.7"
  }
 },
 "nbformat": 4,
 "nbformat_minor": 2
}
